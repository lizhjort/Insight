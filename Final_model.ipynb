{
  "nbformat": 4,
  "nbformat_minor": 0,
  "metadata": {
    "colab": {
      "name": "Final model.ipynb",
      "version": "0.3.2",
      "provenance": [],
      "include_colab_link": true
    },
    "kernelspec": {
      "name": "python3",
      "display_name": "Python 3"
    }
  },
  "cells": [
    {
      "cell_type": "markdown",
      "metadata": {
        "id": "view-in-github",
        "colab_type": "text"
      },
      "source": [
        "<a href=\"https://colab.research.google.com/github/lizhjort/Insight/blob/master/Final_model.ipynb\" target=\"_parent\"><img src=\"https://colab.research.google.com/assets/colab-badge.svg\" alt=\"Open In Colab\"/></a>"
      ]
    },
    {
      "cell_type": "code",
      "metadata": {
        "id": "p52MVv21ZvJc",
        "colab_type": "code",
        "outputId": "27ea1bf3-7cfa-478a-ce54-d62887436b41",
        "colab": {
          "base_uri": "https://localhost:8080/",
          "height": 122
        }
      },
      "source": [
        "from google.colab import drive\n",
        "drive.mount('/content/gdrive')"
      ],
      "execution_count": 1,
      "outputs": [
        {
          "output_type": "stream",
          "text": [
            "Go to this URL in a browser: https://accounts.google.com/o/oauth2/auth?client_id=947318989803-6bn6qk8qdgf4n4g3pfee6491hc0brc4i.apps.googleusercontent.com&redirect_uri=urn%3Aietf%3Awg%3Aoauth%3A2.0%3Aoob&scope=email%20https%3A%2F%2Fwww.googleapis.com%2Fauth%2Fdocs.test%20https%3A%2F%2Fwww.googleapis.com%2Fauth%2Fdrive%20https%3A%2F%2Fwww.googleapis.com%2Fauth%2Fdrive.photos.readonly%20https%3A%2F%2Fwww.googleapis.com%2Fauth%2Fpeopleapi.readonly&response_type=code\n",
            "\n",
            "Enter your authorization code:\n",
            "··········\n",
            "Mounted at /content/gdrive\n"
          ],
          "name": "stdout"
        }
      ]
    },
    {
      "cell_type": "code",
      "metadata": {
        "id": "2QR7SYagZwrc",
        "colab_type": "code",
        "colab": {}
      },
      "source": [
        "import pandas as pd\n",
        "import numpy as np\n",
        "from sklearn.preprocessing import StandardScaler\n",
        "from sklearn.model_selection import KFold\n",
        "import lightgbm as lgb\n",
        "import matplotlib.pyplot as plt"
      ],
      "execution_count": 0,
      "outputs": []
    },
    {
      "cell_type": "code",
      "metadata": {
        "id": "XuUT9-roZ0Tf",
        "colab_type": "code",
        "colab": {}
      },
      "source": [
        "data = pd.read_pickle('/content/gdrive/My Drive/insight_data/data_12_col.pkl.gz')"
      ],
      "execution_count": 0,
      "outputs": []
    },
    {
      "cell_type": "code",
      "metadata": {
        "id": "P8qt_30AaY7i",
        "colab_type": "code",
        "colab": {}
      },
      "source": [
        "data[['ratings_count', 'reviews_count', 'text_reviews_count', 'average_rating']] = data[['ratings_count', 'reviews_count', 'text_reviews_count', 'average_rating']].fillna(value=0) "
      ],
      "execution_count": 0,
      "outputs": []
    },
    {
      "cell_type": "code",
      "metadata": {
        "id": "y1RUNbgHhftX",
        "colab_type": "code",
        "colab": {}
      },
      "source": [
        "X_test = data.loc[data['CheckoutDate'] >= '2019-05-05']\n",
        "data = data.loc[data['CheckoutDate'] < '2019-05-05']\n",
        "y_test = X_test['CheckoutCountNextWeek']"
      ],
      "execution_count": 0,
      "outputs": []
    },
    {
      "cell_type": "code",
      "metadata": {
        "id": "IZsul8mEi9vx",
        "colab_type": "code",
        "outputId": "75cef8f4-3c9c-474f-a878-61e376145444",
        "colab": {
          "base_uri": "https://localhost:8080/",
          "height": 564
        }
      },
      "source": [
        "X_test.head()"
      ],
      "execution_count": 6,
      "outputs": [
        {
          "output_type": "execute_result",
          "data": {
            "text/html": [
              "<div>\n",
              "<style scoped>\n",
              "    .dataframe tbody tr th:only-of-type {\n",
              "        vertical-align: middle;\n",
              "    }\n",
              "\n",
              "    .dataframe tbody tr th {\n",
              "        vertical-align: top;\n",
              "    }\n",
              "\n",
              "    .dataframe thead th {\n",
              "        text-align: right;\n",
              "    }\n",
              "</style>\n",
              "<table border=\"1\" class=\"dataframe\">\n",
              "  <thead>\n",
              "    <tr style=\"text-align: right;\">\n",
              "      <th></th>\n",
              "      <th>BibNumber</th>\n",
              "      <th>CheckoutDate</th>\n",
              "      <th>CheckoutCount</th>\n",
              "      <th>CheckoutCount1WeekPrev</th>\n",
              "      <th>CheckoutCount2WeekPrev</th>\n",
              "      <th>CheckoutCountNextWeek</th>\n",
              "      <th>Genre</th>\n",
              "      <th>Title</th>\n",
              "      <th>ISBN</th>\n",
              "      <th>PublicationYear</th>\n",
              "      <th>isbn</th>\n",
              "      <th>isbn13</th>\n",
              "      <th>ratings_count</th>\n",
              "      <th>reviews_count</th>\n",
              "      <th>text_reviews_count</th>\n",
              "      <th>average_rating</th>\n",
              "      <th>weeks_on_list</th>\n",
              "      <th>EverOnBestsellers</th>\n",
              "    </tr>\n",
              "  </thead>\n",
              "  <tbody>\n",
              "    <tr>\n",
              "      <th>87</th>\n",
              "      <td>10143</td>\n",
              "      <td>2019-05-05</td>\n",
              "      <td>0.0</td>\n",
              "      <td>0.0</td>\n",
              "      <td>0.0</td>\n",
              "      <td>0.0</td>\n",
              "      <td>72.0</td>\n",
              "      <td>The price / by Arthur Miller..</td>\n",
              "      <td>082220911X, 9780822209119</td>\n",
              "      <td>c1997.</td>\n",
              "      <td>082220911X</td>\n",
              "      <td>9.780820e+12</td>\n",
              "      <td>17.0</td>\n",
              "      <td>29.0</td>\n",
              "      <td>5.0</td>\n",
              "      <td>3.82</td>\n",
              "      <td>NaN</td>\n",
              "      <td>NaN</td>\n",
              "    </tr>\n",
              "    <tr>\n",
              "      <th>88</th>\n",
              "      <td>10143</td>\n",
              "      <td>2019-05-12</td>\n",
              "      <td>0.0</td>\n",
              "      <td>0.0</td>\n",
              "      <td>0.0</td>\n",
              "      <td>0.0</td>\n",
              "      <td>72.0</td>\n",
              "      <td>The price / by Arthur Miller..</td>\n",
              "      <td>082220911X, 9780822209119</td>\n",
              "      <td>c1997.</td>\n",
              "      <td>082220911X</td>\n",
              "      <td>9.780820e+12</td>\n",
              "      <td>17.0</td>\n",
              "      <td>29.0</td>\n",
              "      <td>5.0</td>\n",
              "      <td>3.82</td>\n",
              "      <td>NaN</td>\n",
              "      <td>NaN</td>\n",
              "    </tr>\n",
              "    <tr>\n",
              "      <th>89</th>\n",
              "      <td>10143</td>\n",
              "      <td>2019-05-19</td>\n",
              "      <td>0.0</td>\n",
              "      <td>0.0</td>\n",
              "      <td>0.0</td>\n",
              "      <td>0.0</td>\n",
              "      <td>72.0</td>\n",
              "      <td>The price / by Arthur Miller..</td>\n",
              "      <td>082220911X, 9780822209119</td>\n",
              "      <td>c1997.</td>\n",
              "      <td>082220911X</td>\n",
              "      <td>9.780820e+12</td>\n",
              "      <td>17.0</td>\n",
              "      <td>29.0</td>\n",
              "      <td>5.0</td>\n",
              "      <td>3.82</td>\n",
              "      <td>NaN</td>\n",
              "      <td>NaN</td>\n",
              "    </tr>\n",
              "    <tr>\n",
              "      <th>90</th>\n",
              "      <td>10143</td>\n",
              "      <td>2019-05-26</td>\n",
              "      <td>0.0</td>\n",
              "      <td>0.0</td>\n",
              "      <td>0.0</td>\n",
              "      <td>0.0</td>\n",
              "      <td>72.0</td>\n",
              "      <td>The price / by Arthur Miller..</td>\n",
              "      <td>082220911X, 9780822209119</td>\n",
              "      <td>c1997.</td>\n",
              "      <td>082220911X</td>\n",
              "      <td>9.780820e+12</td>\n",
              "      <td>17.0</td>\n",
              "      <td>29.0</td>\n",
              "      <td>5.0</td>\n",
              "      <td>3.82</td>\n",
              "      <td>NaN</td>\n",
              "      <td>NaN</td>\n",
              "    </tr>\n",
              "    <tr>\n",
              "      <th>91</th>\n",
              "      <td>10143</td>\n",
              "      <td>2019-06-02</td>\n",
              "      <td>0.0</td>\n",
              "      <td>0.0</td>\n",
              "      <td>0.0</td>\n",
              "      <td>0.0</td>\n",
              "      <td>72.0</td>\n",
              "      <td>The price / by Arthur Miller..</td>\n",
              "      <td>082220911X, 9780822209119</td>\n",
              "      <td>c1997.</td>\n",
              "      <td>082220911X</td>\n",
              "      <td>9.780820e+12</td>\n",
              "      <td>17.0</td>\n",
              "      <td>29.0</td>\n",
              "      <td>5.0</td>\n",
              "      <td>3.82</td>\n",
              "      <td>NaN</td>\n",
              "      <td>NaN</td>\n",
              "    </tr>\n",
              "  </tbody>\n",
              "</table>\n",
              "</div>"
            ],
            "text/plain": [
              "    BibNumber CheckoutDate  ...  weeks_on_list  EverOnBestsellers\n",
              "87      10143   2019-05-05  ...            NaN                NaN\n",
              "88      10143   2019-05-12  ...            NaN                NaN\n",
              "89      10143   2019-05-19  ...            NaN                NaN\n",
              "90      10143   2019-05-26  ...            NaN                NaN\n",
              "91      10143   2019-06-02  ...            NaN                NaN\n",
              "\n",
              "[5 rows x 18 columns]"
            ]
          },
          "metadata": {
            "tags": []
          },
          "execution_count": 6
        }
      ]
    },
    {
      "cell_type": "code",
      "metadata": {
        "id": "LXHmU8sQjg6d",
        "colab_type": "code",
        "colab": {}
      },
      "source": [
        "X_test.drop(['Title', 'CheckoutDate', 'PublicationYear', 'ISBN', 'isbn', 'isbn13', 'CheckoutCountNextWeek'], axis=1, inplace=True)\n"
      ],
      "execution_count": 0,
      "outputs": []
    },
    {
      "cell_type": "code",
      "metadata": {
        "id": "kEvxH36Zn1EI",
        "colab_type": "code",
        "outputId": "eaea338b-508f-4e0c-96db-d4293ca146ad",
        "colab": {
          "base_uri": "https://localhost:8080/",
          "height": 221
        }
      },
      "source": [
        "X_test.dtypes"
      ],
      "execution_count": 8,
      "outputs": [
        {
          "output_type": "execute_result",
          "data": {
            "text/plain": [
              "BibNumber                   int64\n",
              "CheckoutCount             float64\n",
              "CheckoutCount1WeekPrev    float64\n",
              "CheckoutCount2WeekPrev    float64\n",
              "Genre                     float64\n",
              "ratings_count             float64\n",
              "reviews_count             float64\n",
              "text_reviews_count        float64\n",
              "average_rating            float64\n",
              "weeks_on_list             float64\n",
              "EverOnBestsellers         float64\n",
              "dtype: object"
            ]
          },
          "metadata": {
            "tags": []
          },
          "execution_count": 8
        }
      ]
    },
    {
      "cell_type": "code",
      "metadata": {
        "id": "e4xcdwOaaOdu",
        "colab_type": "code",
        "colab": {}
      },
      "source": [
        "X = data\n",
        "y = data['CheckoutCountNextWeek']\n",
        "X.drop(columns=['CheckoutCountNextWeek'], inplace=True)"
      ],
      "execution_count": 0,
      "outputs": []
    },
    {
      "cell_type": "code",
      "metadata": {
        "id": "y5qVFuFDa-rI",
        "colab_type": "code",
        "colab": {}
      },
      "source": [
        "X.drop(['Title', 'CheckoutDate', 'PublicationYear', 'ISBN', 'isbn', 'isbn13'], axis=1, inplace=True)"
      ],
      "execution_count": 0,
      "outputs": []
    },
    {
      "cell_type": "code",
      "metadata": {
        "id": "5sqLdUQacxOe",
        "colab_type": "code",
        "colab": {
          "base_uri": "https://localhost:8080/",
          "height": 221
        },
        "outputId": "5b8dd096-a96d-42c1-fcd0-1787c51d50b3"
      },
      "source": [
        "X.dtypes"
      ],
      "execution_count": 11,
      "outputs": [
        {
          "output_type": "execute_result",
          "data": {
            "text/plain": [
              "BibNumber                   int64\n",
              "CheckoutCount             float64\n",
              "CheckoutCount1WeekPrev    float64\n",
              "CheckoutCount2WeekPrev    float64\n",
              "Genre                     float64\n",
              "ratings_count             float64\n",
              "reviews_count             float64\n",
              "text_reviews_count        float64\n",
              "average_rating            float64\n",
              "weeks_on_list             float64\n",
              "EverOnBestsellers         float64\n",
              "dtype: object"
            ]
          },
          "metadata": {
            "tags": []
          },
          "execution_count": 11
        }
      ]
    },
    {
      "cell_type": "code",
      "metadata": {
        "id": "rgzU1uZjaREq",
        "colab_type": "code",
        "colab": {}
      },
      "source": [
        "n_train = int(X.shape[0] * 0.95)\n",
        "\n",
        "X_train, y_train = X.iloc[:n_train], y.iloc[:n_train]\n",
        "X_valid, y_valid = X.iloc[n_train:], y.iloc[n_train:]\n",
        "\n",
        "sc = StandardScaler()\n",
        "X_train = sc.fit_transform(X_train)\n",
        "X_valid = sc.transform(X_valid)\n",
        "X_test = sc.transform(X_test)\n"
      ],
      "execution_count": 0,
      "outputs": []
    },
    {
      "cell_type": "code",
      "metadata": {
        "id": "H4ob6qICaUol",
        "colab_type": "code",
        "outputId": "a885c399-4cfe-48dd-a434-c30874a56c69",
        "colab": {
          "base_uri": "https://localhost:8080/",
          "height": 816
        }
      },
      "source": [
        "# Convert the datasets to LGB format\n",
        "train_cols = X.columns.tolist()\n",
        "categorical_cols = ['BibNumber', 'Genre']\n",
        "\n",
        "dtrain = lgb.Dataset(X_train, y_train, feature_name=train_cols, categorical_feature=categorical_cols, free_raw_data=False)\n",
        "dvalid = lgb.Dataset(X_valid, y_valid, feature_name=train_cols, categorical_feature=categorical_cols, free_raw_data=False)\n",
        "\n",
        "lgb_params = dict(\n",
        "    objective = 'regression_l1',\n",
        "    learning_rate = 0.01,\n",
        "    num_leaves = 32,\n",
        "    max_depth = 8,\n",
        "    min_data_in_leaf = 2500,\n",
        "    bagging_fraction = 0.5,\n",
        "    bagging_freq = 10,\n",
        "    feature_fraction = 0.5,\n",
        "    min_sum_hessian_in_leaf = 0.5,\n",
        "    lambda_l1 = 0.0,\n",
        "    lambda_l2 = 1.0,\n",
        "    max_bin = 100,\n",
        "    metric = 'mae',\n",
        "    verbose = 0,\n",
        "    seed = 42)\n",
        "    \n",
        "evals_result = {}\n",
        "m = lgb.train(lgb_params, dtrain, num_boost_round=1000, valid_sets=(dvalid,), valid_names=('valid',), verbose_eval=25,\n",
        "              early_stopping_rounds=100, evals_result=evals_result)\n",
        "\n",
        "df_result = pd.DataFrame(evals_result['valid'])\n",
        "pred_y_test = m.predict(X_test, num_iteration=m.best_iteration)"
      ],
      "execution_count": 13,
      "outputs": [
        {
          "output_type": "stream",
          "text": [
            "/usr/local/lib/python3.6/dist-packages/lightgbm/basic.py:1205: UserWarning: Using categorical_feature in Dataset.\n",
            "  warnings.warn('Using categorical_feature in Dataset.')\n",
            "/usr/local/lib/python3.6/dist-packages/lightgbm/basic.py:762: UserWarning: categorical_feature in param dict is overridden.\n",
            "  warnings.warn('categorical_feature in param dict is overridden.')\n"
          ],
          "name": "stderr"
        },
        {
          "output_type": "stream",
          "text": [
            "Training until validation scores don't improve for 100 rounds.\n",
            "[25]\tvalid's l1: 1.94256\n",
            "[50]\tvalid's l1: 1.80289\n",
            "[75]\tvalid's l1: 1.67476\n",
            "[100]\tvalid's l1: 1.58685\n",
            "[125]\tvalid's l1: 1.51867\n",
            "[150]\tvalid's l1: 1.47447\n",
            "[175]\tvalid's l1: 1.4316\n",
            "[200]\tvalid's l1: 1.4023\n",
            "[225]\tvalid's l1: 1.38115\n",
            "[250]\tvalid's l1: 1.36657\n",
            "[275]\tvalid's l1: 1.354\n",
            "[300]\tvalid's l1: 1.34492\n",
            "[325]\tvalid's l1: 1.33717\n",
            "[350]\tvalid's l1: 1.33298\n",
            "[375]\tvalid's l1: 1.33045\n",
            "[400]\tvalid's l1: 1.32633\n",
            "[425]\tvalid's l1: 1.32239\n",
            "[450]\tvalid's l1: 1.31789\n",
            "[475]\tvalid's l1: 1.31515\n",
            "[500]\tvalid's l1: 1.31216\n",
            "[525]\tvalid's l1: 1.30905\n",
            "[550]\tvalid's l1: 1.30546\n",
            "[575]\tvalid's l1: 1.30343\n",
            "[600]\tvalid's l1: 1.30213\n",
            "[625]\tvalid's l1: 1.30075\n",
            "[650]\tvalid's l1: 1.29885\n",
            "[675]\tvalid's l1: 1.29712\n",
            "[700]\tvalid's l1: 1.29577\n",
            "[725]\tvalid's l1: 1.29427\n",
            "[750]\tvalid's l1: 1.29332\n",
            "[775]\tvalid's l1: 1.2918\n",
            "[800]\tvalid's l1: 1.29093\n",
            "[825]\tvalid's l1: 1.28965\n",
            "[850]\tvalid's l1: 1.28868\n",
            "[875]\tvalid's l1: 1.28803\n",
            "[900]\tvalid's l1: 1.28655\n",
            "[925]\tvalid's l1: 1.28553\n",
            "[950]\tvalid's l1: 1.28458\n",
            "[975]\tvalid's l1: 1.28319\n",
            "[1000]\tvalid's l1: 1.28176\n",
            "Did not meet early stopping. Best iteration is:\n",
            "[998]\tvalid's l1: 1.28162\n"
          ],
          "name": "stdout"
        }
      ]
    },
    {
      "cell_type": "code",
      "metadata": {
        "id": "NgdO0X-up_K_",
        "colab_type": "code",
        "colab": {}
      },
      "source": [
        "pred_y_test3 = pd.DataFrame(data=pred_y_test)"
      ],
      "execution_count": 0,
      "outputs": []
    },
    {
      "cell_type": "code",
      "metadata": {
        "id": "K4-uFVaxqjSD",
        "colab_type": "code",
        "outputId": "d692e6ac-a959-4354-921d-89ecd80f3bc3",
        "colab": {
          "base_uri": "https://localhost:8080/",
          "height": 824
        }
      },
      "source": [
        "pred_y_test3.head(25)"
      ],
      "execution_count": 15,
      "outputs": [
        {
          "output_type": "execute_result",
          "data": {
            "text/html": [
              "<div>\n",
              "<style scoped>\n",
              "    .dataframe tbody tr th:only-of-type {\n",
              "        vertical-align: middle;\n",
              "    }\n",
              "\n",
              "    .dataframe tbody tr th {\n",
              "        vertical-align: top;\n",
              "    }\n",
              "\n",
              "    .dataframe thead th {\n",
              "        text-align: right;\n",
              "    }\n",
              "</style>\n",
              "<table border=\"1\" class=\"dataframe\">\n",
              "  <thead>\n",
              "    <tr style=\"text-align: right;\">\n",
              "      <th></th>\n",
              "      <th>0</th>\n",
              "    </tr>\n",
              "  </thead>\n",
              "  <tbody>\n",
              "    <tr>\n",
              "      <th>0</th>\n",
              "      <td>0.0</td>\n",
              "    </tr>\n",
              "    <tr>\n",
              "      <th>1</th>\n",
              "      <td>0.0</td>\n",
              "    </tr>\n",
              "    <tr>\n",
              "      <th>2</th>\n",
              "      <td>0.0</td>\n",
              "    </tr>\n",
              "    <tr>\n",
              "      <th>3</th>\n",
              "      <td>0.0</td>\n",
              "    </tr>\n",
              "    <tr>\n",
              "      <th>4</th>\n",
              "      <td>0.0</td>\n",
              "    </tr>\n",
              "    <tr>\n",
              "      <th>5</th>\n",
              "      <td>0.0</td>\n",
              "    </tr>\n",
              "    <tr>\n",
              "      <th>6</th>\n",
              "      <td>0.0</td>\n",
              "    </tr>\n",
              "    <tr>\n",
              "      <th>7</th>\n",
              "      <td>0.0</td>\n",
              "    </tr>\n",
              "    <tr>\n",
              "      <th>8</th>\n",
              "      <td>0.0</td>\n",
              "    </tr>\n",
              "    <tr>\n",
              "      <th>9</th>\n",
              "      <td>0.0</td>\n",
              "    </tr>\n",
              "    <tr>\n",
              "      <th>10</th>\n",
              "      <td>0.0</td>\n",
              "    </tr>\n",
              "    <tr>\n",
              "      <th>11</th>\n",
              "      <td>0.0</td>\n",
              "    </tr>\n",
              "    <tr>\n",
              "      <th>12</th>\n",
              "      <td>0.0</td>\n",
              "    </tr>\n",
              "    <tr>\n",
              "      <th>13</th>\n",
              "      <td>0.0</td>\n",
              "    </tr>\n",
              "    <tr>\n",
              "      <th>14</th>\n",
              "      <td>0.0</td>\n",
              "    </tr>\n",
              "    <tr>\n",
              "      <th>15</th>\n",
              "      <td>0.0</td>\n",
              "    </tr>\n",
              "    <tr>\n",
              "      <th>16</th>\n",
              "      <td>0.0</td>\n",
              "    </tr>\n",
              "    <tr>\n",
              "      <th>17</th>\n",
              "      <td>0.0</td>\n",
              "    </tr>\n",
              "    <tr>\n",
              "      <th>18</th>\n",
              "      <td>0.0</td>\n",
              "    </tr>\n",
              "    <tr>\n",
              "      <th>19</th>\n",
              "      <td>0.0</td>\n",
              "    </tr>\n",
              "    <tr>\n",
              "      <th>20</th>\n",
              "      <td>0.0</td>\n",
              "    </tr>\n",
              "    <tr>\n",
              "      <th>21</th>\n",
              "      <td>0.0</td>\n",
              "    </tr>\n",
              "    <tr>\n",
              "      <th>22</th>\n",
              "      <td>0.0</td>\n",
              "    </tr>\n",
              "    <tr>\n",
              "      <th>23</th>\n",
              "      <td>0.0</td>\n",
              "    </tr>\n",
              "    <tr>\n",
              "      <th>24</th>\n",
              "      <td>0.0</td>\n",
              "    </tr>\n",
              "  </tbody>\n",
              "</table>\n",
              "</div>"
            ],
            "text/plain": [
              "      0\n",
              "0   0.0\n",
              "1   0.0\n",
              "2   0.0\n",
              "3   0.0\n",
              "4   0.0\n",
              "5   0.0\n",
              "6   0.0\n",
              "7   0.0\n",
              "8   0.0\n",
              "9   0.0\n",
              "10  0.0\n",
              "11  0.0\n",
              "12  0.0\n",
              "13  0.0\n",
              "14  0.0\n",
              "15  0.0\n",
              "16  0.0\n",
              "17  0.0\n",
              "18  0.0\n",
              "19  0.0\n",
              "20  0.0\n",
              "21  0.0\n",
              "22  0.0\n",
              "23  0.0\n",
              "24  0.0"
            ]
          },
          "metadata": {
            "tags": []
          },
          "execution_count": 15
        }
      ]
    },
    {
      "cell_type": "code",
      "metadata": {
        "id": "2UMAISkwBpKd",
        "colab_type": "code",
        "outputId": "51c04f12-b831-4344-d28d-bb5ee6ac35b6",
        "colab": {
          "base_uri": "https://localhost:8080/",
          "height": 119
        }
      },
      "source": [
        "y_test.head()"
      ],
      "execution_count": 16,
      "outputs": [
        {
          "output_type": "execute_result",
          "data": {
            "text/plain": [
              "87    0.0\n",
              "88    0.0\n",
              "89    0.0\n",
              "90    0.0\n",
              "91    0.0\n",
              "Name: CheckoutCountNextWeek, dtype: float64"
            ]
          },
          "metadata": {
            "tags": []
          },
          "execution_count": 16
        }
      ]
    },
    {
      "cell_type": "code",
      "metadata": {
        "id": "9yvBQ9_7TJ1x",
        "colab_type": "code",
        "outputId": "0172e84f-9b0a-42c7-e7d7-9f48dd1891f3",
        "colab": {
          "base_uri": "https://localhost:8080/",
          "height": 486
        }
      },
      "source": [
        "ax = df_result.plot(figsize=(12, 8))\n",
        "ax.scatter(df_result.idxmax(), df_result.max(), marker='+', color='red')\n",
        "plt.show()"
      ],
      "execution_count": 17,
      "outputs": [
        {
          "output_type": "display_data",
          "data": {
            "image/png": "[encoded data removed]",
            "text/plain": [
              "<Figure size 864x576 with 1 Axes>"
            ]
          },
          "metadata": {
            "tags": []
          }
        }
      ]
    },
    {
      "cell_type": "code",
      "metadata": {
        "id": "CheDKGLvUR5W",
        "colab_type": "code",
        "colab": {
          "base_uri": "https://localhost:8080/",
          "height": 334
        },
        "outputId": "d74c90ad-561d-42b0-d43c-ad57e36ec3ae"
      },
      "source": [
        "import shap\n",
        "shap_values = shap.TreeExplainer(m).shap_values(X_test)\n",
        "feature_importance = shap.summary_plot(shap_values, X_test) "
      ],
      "execution_count": 23,
      "outputs": [
        {
          "output_type": "error",
          "ename": "ModuleNotFoundError",
          "evalue": "ignored",
          "traceback": [
            "\u001b[0;31m---------------------------------------------------------------------------\u001b[0m",
            "\u001b[0;31mModuleNotFoundError\u001b[0m                       Traceback (most recent call last)",
            "\u001b[0;32m<ipython-input-23-e07a416ae79c>\u001b[0m in \u001b[0;36m<module>\u001b[0;34m()\u001b[0m\n\u001b[0;32m----> 1\u001b[0;31m \u001b[0;32mimport\u001b[0m \u001b[0mshap\u001b[0m\u001b[0;34m\u001b[0m\u001b[0;34m\u001b[0m\u001b[0m\n\u001b[0m\u001b[1;32m      2\u001b[0m \u001b[0mshap_values\u001b[0m \u001b[0;34m=\u001b[0m \u001b[0mshap\u001b[0m\u001b[0;34m.\u001b[0m\u001b[0mTreeExplainer\u001b[0m\u001b[0;34m(\u001b[0m\u001b[0mm\u001b[0m\u001b[0;34m)\u001b[0m\u001b[0;34m.\u001b[0m\u001b[0mshap_values\u001b[0m\u001b[0;34m(\u001b[0m\u001b[0mX_test\u001b[0m\u001b[0;34m)\u001b[0m\u001b[0;34m\u001b[0m\u001b[0;34m\u001b[0m\u001b[0m\n\u001b[1;32m      3\u001b[0m \u001b[0mfeature_importance\u001b[0m \u001b[0;34m=\u001b[0m \u001b[0mshap\u001b[0m\u001b[0;34m.\u001b[0m\u001b[0msummary_plot\u001b[0m\u001b[0;34m(\u001b[0m\u001b[0mshap_values\u001b[0m\u001b[0;34m,\u001b[0m \u001b[0mX_test\u001b[0m\u001b[0;34m)\u001b[0m\u001b[0;34m\u001b[0m\u001b[0;34m\u001b[0m\u001b[0m\n",
            "\u001b[0;31mModuleNotFoundError\u001b[0m: No module named 'shap'",
            "",
            "\u001b[0;31m---------------------------------------------------------------------------\u001b[0;32m\nNOTE: If your import is failing due to a missing package, you can\nmanually install dependencies using either !pip or !apt.\n\nTo view examples of installing some common dependencies, click the\n\"Open Examples\" button below.\n\u001b[0;31m---------------------------------------------------------------------------\u001b[0m\n"
          ]
        }
      ]
    },
    {
      "cell_type": "code",
      "metadata": {
        "id": "1So8_qCBa0yi",
        "colab_type": "code",
        "outputId": "a5476c8e-3cfa-4d39-86c1-3fac4c12a294",
        "colab": {
          "base_uri": "https://localhost:8080/",
          "height": 623
        }
      },
      "source": [
        "fig, ax = plt.subplots(figsize=(12,10))\n",
        "lgb.plot_importance(m, max_num_features=50, height=0.8, ax=ax)\n",
        "ax.grid(False)\n",
        "plt.title(\"LightGBM - Feature Importance\", fontsize=15)\n",
        "plt.show()"
      ],
      "execution_count": 18,
      "outputs": [
        {
          "output_type": "display_data",
          "data": {
            "image/png": "[encoded data removed]",
            "text/plain": [
              "<Figure size 864x720 with 1 Axes>"
            ]
          },
          "metadata": {
            "tags": []
          }
        }
      ]
    },
    {
      "cell_type": "code",
      "metadata": {
        "id": "FeYlkAABle6r",
        "colab_type": "code",
        "colab": {}
      },
      "source": [
        "pred_y_test3.to_pickle('/content/gdrive/My Drive/insight_data/y_predictions3.pkl.gz')"
      ],
      "execution_count": 0,
      "outputs": []
    },
    {
      "cell_type": "code",
      "metadata": {
        "id": "NONQWCRgZl-A",
        "colab_type": "code",
        "colab": {}
      },
      "source": [
        ""
      ],
      "execution_count": 0,
      "outputs": []
    }
  ]
}