{
  "nbformat": 4,
  "nbformat_minor": 0,
  "metadata": {
    "colab": {
      "name": "bestsellers_merge",
      "version": "0.3.2",
      "provenance": [],
      "collapsed_sections": [],
      "include_colab_link": true
    },
    "kernelspec": {
      "name": "python3",
      "display_name": "Python 3"
    }
  },
  "cells": [
    {
      "cell_type": "markdown",
      "metadata": {
        "id": "view-in-github",
        "colab_type": "text"
      },
      "source": [
        "<a href=\"https://colab.research.google.com/github/lizhjort/Insight/blob/master/bestsellers_merge.ipynb\" target=\"_parent\"><img src=\"https://colab.research.google.com/assets/colab-badge.svg\" alt=\"Open In Colab\"/></a>"
      ]
    },
    {
      "cell_type": "code",
      "metadata": {
        "id": "esVFC7ggOtH5",
        "colab_type": "code",
        "outputId": "8fd1ee28-09f0-4f8f-c5c1-c7d98d4adc15",
        "colab": {
          "base_uri": "https://localhost:8080/",
          "height": 122
        }
      },
      "source": [
        "from google.colab import drive\n",
        "drive.mount('/content/gdrive')"
      ],
      "execution_count": 0,
      "outputs": [
        {
          "output_type": "stream",
          "text": [
            "Go to this URL in a browser: https://accounts.google.com/o/oauth2/auth?client_id=947318989803-6bn6qk8qdgf4n4g3pfee6491hc0brc4i.apps.googleusercontent.com&redirect_uri=urn%3Aietf%3Awg%3Aoauth%3A2.0%3Aoob&scope=email%20https%3A%2F%2Fwww.googleapis.com%2Fauth%2Fdocs.test%20https%3A%2F%2Fwww.googleapis.com%2Fauth%2Fdrive%20https%3A%2F%2Fwww.googleapis.com%2Fauth%2Fdrive.photos.readonly%20https%3A%2F%2Fwww.googleapis.com%2Fauth%2Fpeopleapi.readonly&response_type=code\n",
            "\n",
            "Enter your authorization code:\n",
            "··········\n",
            "Mounted at /content/gdrive\n"
          ],
          "name": "stdout"
        }
      ]
    },
    {
      "cell_type": "code",
      "metadata": {
        "id": "OTe9SoPQR8P9",
        "colab_type": "code",
        "colab": {}
      },
      "source": [
        "import pandas as pd\n",
        "import numpy as np\n",
        "from sklearn.preprocessing import StandardScaler\n",
        "import lightgbm as lgb"
      ],
      "execution_count": 0,
      "outputs": []
    },
    {
      "cell_type": "code",
      "metadata": {
        "id": "YY7WawI4SAOX",
        "colab_type": "code",
        "colab": {}
      },
      "source": [
        "bestsellers = pd.read_csv('/content/gdrive/My Drive/insight_data/bestsellers.csv', encoding='latin-1')"
      ],
      "execution_count": 0,
      "outputs": []
    },
    {
      "cell_type": "code",
      "metadata": {
        "id": "vBceBFJXTnrw",
        "colab_type": "code",
        "outputId": "d6483c17-2514-4836-96dd-d352314627f7",
        "colab": {
          "base_uri": "https://localhost:8080/",
          "height": 204
        }
      },
      "source": [
        "bestsellers.head()"
      ],
      "execution_count": 0,
      "outputs": [
        {
          "output_type": "execute_result",
          "data": {
            "text/html": [
              "<div>\n",
              "<style scoped>\n",
              "    .dataframe tbody tr th:only-of-type {\n",
              "        vertical-align: middle;\n",
              "    }\n",
              "\n",
              "    .dataframe tbody tr th {\n",
              "        vertical-align: top;\n",
              "    }\n",
              "\n",
              "    .dataframe thead th {\n",
              "        text-align: right;\n",
              "    }\n",
              "</style>\n",
              "<table border=\"1\" class=\"dataframe\">\n",
              "  <thead>\n",
              "    <tr style=\"text-align: right;\">\n",
              "      <th></th>\n",
              "      <th>published_date</th>\n",
              "      <th>rank</th>\n",
              "      <th>weeks_on_list</th>\n",
              "      <th>primary_isbn10</th>\n",
              "      <th>primary_isbn13</th>\n",
              "      <th>price</th>\n",
              "      <th>title</th>\n",
              "      <th>author</th>\n",
              "    </tr>\n",
              "  </thead>\n",
              "  <tbody>\n",
              "    <tr>\n",
              "      <th>0</th>\n",
              "      <td>6/9/19</td>\n",
              "      <td>1</td>\n",
              "      <td>38</td>\n",
              "      <td>735219095</td>\n",
              "      <td>9.780740e+12</td>\n",
              "      <td>0.0</td>\n",
              "      <td>WHERE THE CRAWDADS SING</td>\n",
              "      <td>Delia Owens</td>\n",
              "    </tr>\n",
              "    <tr>\n",
              "      <th>1</th>\n",
              "      <td>6/9/19</td>\n",
              "      <td>2</td>\n",
              "      <td>4</td>\n",
              "      <td>316420263</td>\n",
              "      <td>9.780320e+12</td>\n",
              "      <td>0.0</td>\n",
              "      <td>THE 18TH ABDUCTION</td>\n",
              "      <td>James Patterson and Maxine Paetro</td>\n",
              "    </tr>\n",
              "    <tr>\n",
              "      <th>2</th>\n",
              "      <td>6/9/19</td>\n",
              "      <td>3</td>\n",
              "      <td>1</td>\n",
              "      <td>1538750147</td>\n",
              "      <td>9.781540e+12</td>\n",
              "      <td>0.0</td>\n",
              "      <td>CARI MORA</td>\n",
              "      <td>Thomas Harris</td>\n",
              "    </tr>\n",
              "    <tr>\n",
              "      <th>3</th>\n",
              "      <td>6/9/19</td>\n",
              "      <td>4</td>\n",
              "      <td>22</td>\n",
              "      <td>152479628X</td>\n",
              "      <td>9.781520e+12</td>\n",
              "      <td>0.0</td>\n",
              "      <td>FIRE AND BLOOD</td>\n",
              "      <td>George RR Martin</td>\n",
              "    </tr>\n",
              "    <tr>\n",
              "      <th>4</th>\n",
              "      <td>6/9/19</td>\n",
              "      <td>5</td>\n",
              "      <td>6</td>\n",
              "      <td>1538761416</td>\n",
              "      <td>9.781540e+12</td>\n",
              "      <td>0.0</td>\n",
              "      <td>REDEMPTION</td>\n",
              "      <td>David Baldacci</td>\n",
              "    </tr>\n",
              "  </tbody>\n",
              "</table>\n",
              "</div>"
            ],
            "text/plain": [
              "  published_date  ...                             author\n",
              "0         6/9/19  ...                        Delia Owens\n",
              "1         6/9/19  ...  James Patterson and Maxine Paetro\n",
              "2         6/9/19  ...                      Thomas Harris\n",
              "3         6/9/19  ...                   George RR Martin\n",
              "4         6/9/19  ...                     David Baldacci\n",
              "\n",
              "[5 rows x 8 columns]"
            ]
          },
          "metadata": {
            "tags": []
          },
          "execution_count": 5
        }
      ]
    },
    {
      "cell_type": "code",
      "metadata": {
        "id": "1N3pKF0jUDCF",
        "colab_type": "code",
        "colab": {}
      },
      "source": [
        "bestsellers = bestsellers.drop(['rank', 'price', 'title', 'author', 'primary_isbn13', 'published_date'], axis=1)"
      ],
      "execution_count": 0,
      "outputs": []
    },
    {
      "cell_type": "code",
      "metadata": {
        "id": "y95NIi8qVXvJ",
        "colab_type": "code",
        "colab": {}
      },
      "source": [
        "bestsellers['EverOnBestsellers'] = 1\n"
      ],
      "execution_count": 0,
      "outputs": []
    },
    {
      "cell_type": "code",
      "metadata": {
        "id": "S13veNn8Vge_",
        "colab_type": "code",
        "outputId": "c6f2d090-b3f7-4732-8f51-262bd957a285",
        "colab": {
          "base_uri": "https://localhost:8080/",
          "height": 204
        }
      },
      "source": [
        "bestsellers.head()"
      ],
      "execution_count": 0,
      "outputs": [
        {
          "output_type": "execute_result",
          "data": {
            "text/html": [
              "<div>\n",
              "<style scoped>\n",
              "    .dataframe tbody tr th:only-of-type {\n",
              "        vertical-align: middle;\n",
              "    }\n",
              "\n",
              "    .dataframe tbody tr th {\n",
              "        vertical-align: top;\n",
              "    }\n",
              "\n",
              "    .dataframe thead th {\n",
              "        text-align: right;\n",
              "    }\n",
              "</style>\n",
              "<table border=\"1\" class=\"dataframe\">\n",
              "  <thead>\n",
              "    <tr style=\"text-align: right;\">\n",
              "      <th></th>\n",
              "      <th>weeks_on_list</th>\n",
              "      <th>primary_isbn10</th>\n",
              "      <th>EverOnBestsellers</th>\n",
              "    </tr>\n",
              "  </thead>\n",
              "  <tbody>\n",
              "    <tr>\n",
              "      <th>0</th>\n",
              "      <td>38</td>\n",
              "      <td>735219095</td>\n",
              "      <td>1</td>\n",
              "    </tr>\n",
              "    <tr>\n",
              "      <th>1</th>\n",
              "      <td>4</td>\n",
              "      <td>316420263</td>\n",
              "      <td>1</td>\n",
              "    </tr>\n",
              "    <tr>\n",
              "      <th>2</th>\n",
              "      <td>1</td>\n",
              "      <td>1538750147</td>\n",
              "      <td>1</td>\n",
              "    </tr>\n",
              "    <tr>\n",
              "      <th>3</th>\n",
              "      <td>22</td>\n",
              "      <td>152479628X</td>\n",
              "      <td>1</td>\n",
              "    </tr>\n",
              "    <tr>\n",
              "      <th>4</th>\n",
              "      <td>6</td>\n",
              "      <td>1538761416</td>\n",
              "      <td>1</td>\n",
              "    </tr>\n",
              "  </tbody>\n",
              "</table>\n",
              "</div>"
            ],
            "text/plain": [
              "   weeks_on_list primary_isbn10  EverOnBestsellers\n",
              "0             38      735219095                  1\n",
              "1              4      316420263                  1\n",
              "2              1     1538750147                  1\n",
              "3             22     152479628X                  1\n",
              "4              6     1538761416                  1"
            ]
          },
          "metadata": {
            "tags": []
          },
          "execution_count": 8
        }
      ]
    },
    {
      "cell_type": "code",
      "metadata": {
        "id": "3tG1A1nLV0f6",
        "colab_type": "code",
        "colab": {}
      },
      "source": [
        "bestsellers = bestsellers.rename(index=str, columns={\"primary_isbn10\": \"isbn\"})"
      ],
      "execution_count": 0,
      "outputs": []
    },
    {
      "cell_type": "code",
      "metadata": {
        "id": "MKLNj89kWb1r",
        "colab_type": "code",
        "outputId": "e570d660-9417-40a0-9faa-350564a13c04",
        "colab": {
          "base_uri": "https://localhost:8080/",
          "height": 204
        }
      },
      "source": [
        "bestsellers.head()"
      ],
      "execution_count": 0,
      "outputs": [
        {
          "output_type": "execute_result",
          "data": {
            "text/html": [
              "<div>\n",
              "<style scoped>\n",
              "    .dataframe tbody tr th:only-of-type {\n",
              "        vertical-align: middle;\n",
              "    }\n",
              "\n",
              "    .dataframe tbody tr th {\n",
              "        vertical-align: top;\n",
              "    }\n",
              "\n",
              "    .dataframe thead th {\n",
              "        text-align: right;\n",
              "    }\n",
              "</style>\n",
              "<table border=\"1\" class=\"dataframe\">\n",
              "  <thead>\n",
              "    <tr style=\"text-align: right;\">\n",
              "      <th></th>\n",
              "      <th>weeks_on_list</th>\n",
              "      <th>isbn</th>\n",
              "      <th>EverOnBestsellers</th>\n",
              "    </tr>\n",
              "  </thead>\n",
              "  <tbody>\n",
              "    <tr>\n",
              "      <th>0</th>\n",
              "      <td>38</td>\n",
              "      <td>735219095</td>\n",
              "      <td>1</td>\n",
              "    </tr>\n",
              "    <tr>\n",
              "      <th>1</th>\n",
              "      <td>4</td>\n",
              "      <td>316420263</td>\n",
              "      <td>1</td>\n",
              "    </tr>\n",
              "    <tr>\n",
              "      <th>2</th>\n",
              "      <td>1</td>\n",
              "      <td>1538750147</td>\n",
              "      <td>1</td>\n",
              "    </tr>\n",
              "    <tr>\n",
              "      <th>3</th>\n",
              "      <td>22</td>\n",
              "      <td>152479628X</td>\n",
              "      <td>1</td>\n",
              "    </tr>\n",
              "    <tr>\n",
              "      <th>4</th>\n",
              "      <td>6</td>\n",
              "      <td>1538761416</td>\n",
              "      <td>1</td>\n",
              "    </tr>\n",
              "  </tbody>\n",
              "</table>\n",
              "</div>"
            ],
            "text/plain": [
              "   weeks_on_list        isbn  EverOnBestsellers\n",
              "0             38   735219095                  1\n",
              "1              4   316420263                  1\n",
              "2              1  1538750147                  1\n",
              "3             22  152479628X                  1\n",
              "4              6  1538761416                  1"
            ]
          },
          "metadata": {
            "tags": []
          },
          "execution_count": 10
        }
      ]
    },
    {
      "cell_type": "code",
      "metadata": {
        "id": "yYFdtyNlRXiI",
        "colab_type": "code",
        "colab": {}
      },
      "source": [
        "data_with_checkouts = pd.read_pickle('/content/gdrive/My Drive/insight_data/data_11_col.pkl.gz')"
      ],
      "execution_count": 0,
      "outputs": []
    },
    {
      "cell_type": "code",
      "metadata": {
        "id": "ok3XpBQ2TsZk",
        "colab_type": "code",
        "outputId": "1a29337e-b6fa-42a9-8324-cfc874f21ed0",
        "colab": {
          "base_uri": "https://localhost:8080/",
          "height": 564
        }
      },
      "source": [
        "data_with_checkouts.head()"
      ],
      "execution_count": 0,
      "outputs": [
        {
          "output_type": "execute_result",
          "data": {
            "text/html": [
              "<div>\n",
              "<style scoped>\n",
              "    .dataframe tbody tr th:only-of-type {\n",
              "        vertical-align: middle;\n",
              "    }\n",
              "\n",
              "    .dataframe tbody tr th {\n",
              "        vertical-align: top;\n",
              "    }\n",
              "\n",
              "    .dataframe thead th {\n",
              "        text-align: right;\n",
              "    }\n",
              "</style>\n",
              "<table border=\"1\" class=\"dataframe\">\n",
              "  <thead>\n",
              "    <tr style=\"text-align: right;\">\n",
              "      <th></th>\n",
              "      <th>BibNumber</th>\n",
              "      <th>CheckoutDate</th>\n",
              "      <th>CheckoutCount</th>\n",
              "      <th>CheckoutCount1WeekPrev</th>\n",
              "      <th>CheckoutCount2WeekPrev</th>\n",
              "      <th>CheckoutCountNextWeek</th>\n",
              "      <th>Genre</th>\n",
              "      <th>Title</th>\n",
              "      <th>ISBN</th>\n",
              "      <th>PublicationYear</th>\n",
              "      <th>isbn</th>\n",
              "      <th>isbn13</th>\n",
              "      <th>ratings_count</th>\n",
              "      <th>reviews_count</th>\n",
              "      <th>text_reviews_count</th>\n",
              "      <th>average_rating</th>\n",
              "    </tr>\n",
              "  </thead>\n",
              "  <tbody>\n",
              "    <tr>\n",
              "      <th>0</th>\n",
              "      <td>10143</td>\n",
              "      <td>2017-09-03</td>\n",
              "      <td>0.0</td>\n",
              "      <td>NaN</td>\n",
              "      <td>NaN</td>\n",
              "      <td>0.0</td>\n",
              "      <td>72.0</td>\n",
              "      <td>The price / by Arthur Miller..</td>\n",
              "      <td>082220911X, 9780822209119</td>\n",
              "      <td>c1997.</td>\n",
              "      <td>082220911X</td>\n",
              "      <td>9.780820e+12</td>\n",
              "      <td>17.0</td>\n",
              "      <td>29.0</td>\n",
              "      <td>5.0</td>\n",
              "      <td>3.82</td>\n",
              "    </tr>\n",
              "    <tr>\n",
              "      <th>1</th>\n",
              "      <td>10143</td>\n",
              "      <td>2017-09-10</td>\n",
              "      <td>0.0</td>\n",
              "      <td>0.0</td>\n",
              "      <td>NaN</td>\n",
              "      <td>0.0</td>\n",
              "      <td>72.0</td>\n",
              "      <td>The price / by Arthur Miller..</td>\n",
              "      <td>082220911X, 9780822209119</td>\n",
              "      <td>c1997.</td>\n",
              "      <td>082220911X</td>\n",
              "      <td>9.780820e+12</td>\n",
              "      <td>17.0</td>\n",
              "      <td>29.0</td>\n",
              "      <td>5.0</td>\n",
              "      <td>3.82</td>\n",
              "    </tr>\n",
              "    <tr>\n",
              "      <th>2</th>\n",
              "      <td>10143</td>\n",
              "      <td>2017-09-17</td>\n",
              "      <td>0.0</td>\n",
              "      <td>0.0</td>\n",
              "      <td>0.0</td>\n",
              "      <td>0.0</td>\n",
              "      <td>72.0</td>\n",
              "      <td>The price / by Arthur Miller..</td>\n",
              "      <td>082220911X, 9780822209119</td>\n",
              "      <td>c1997.</td>\n",
              "      <td>082220911X</td>\n",
              "      <td>9.780820e+12</td>\n",
              "      <td>17.0</td>\n",
              "      <td>29.0</td>\n",
              "      <td>5.0</td>\n",
              "      <td>3.82</td>\n",
              "    </tr>\n",
              "    <tr>\n",
              "      <th>3</th>\n",
              "      <td>10143</td>\n",
              "      <td>2017-09-24</td>\n",
              "      <td>0.0</td>\n",
              "      <td>0.0</td>\n",
              "      <td>0.0</td>\n",
              "      <td>0.0</td>\n",
              "      <td>72.0</td>\n",
              "      <td>The price / by Arthur Miller..</td>\n",
              "      <td>082220911X, 9780822209119</td>\n",
              "      <td>c1997.</td>\n",
              "      <td>082220911X</td>\n",
              "      <td>9.780820e+12</td>\n",
              "      <td>17.0</td>\n",
              "      <td>29.0</td>\n",
              "      <td>5.0</td>\n",
              "      <td>3.82</td>\n",
              "    </tr>\n",
              "    <tr>\n",
              "      <th>4</th>\n",
              "      <td>10143</td>\n",
              "      <td>2017-10-01</td>\n",
              "      <td>0.0</td>\n",
              "      <td>0.0</td>\n",
              "      <td>0.0</td>\n",
              "      <td>0.0</td>\n",
              "      <td>72.0</td>\n",
              "      <td>The price / by Arthur Miller..</td>\n",
              "      <td>082220911X, 9780822209119</td>\n",
              "      <td>c1997.</td>\n",
              "      <td>082220911X</td>\n",
              "      <td>9.780820e+12</td>\n",
              "      <td>17.0</td>\n",
              "      <td>29.0</td>\n",
              "      <td>5.0</td>\n",
              "      <td>3.82</td>\n",
              "    </tr>\n",
              "  </tbody>\n",
              "</table>\n",
              "</div>"
            ],
            "text/plain": [
              "   BibNumber CheckoutDate  ...  text_reviews_count  average_rating\n",
              "0      10143   2017-09-03  ...                 5.0            3.82\n",
              "1      10143   2017-09-10  ...                 5.0            3.82\n",
              "2      10143   2017-09-17  ...                 5.0            3.82\n",
              "3      10143   2017-09-24  ...                 5.0            3.82\n",
              "4      10143   2017-10-01  ...                 5.0            3.82\n",
              "\n",
              "[5 rows x 16 columns]"
            ]
          },
          "metadata": {
            "tags": []
          },
          "execution_count": 12
        }
      ]
    },
    {
      "cell_type": "code",
      "metadata": {
        "id": "ArVkgc2aT51G",
        "colab_type": "code",
        "colab": {}
      },
      "source": [
        "data = pd.merge(data_with_checkouts, bestsellers, on=['isbn'], how='left')"
      ],
      "execution_count": 0,
      "outputs": []
    },
    {
      "cell_type": "code",
      "metadata": {
        "id": "nIDMApW2Wf2N",
        "colab_type": "code",
        "colab": {}
      },
      "source": [
        "data.to_pickle('/content/gdrive/My Drive/insight_data/data_12_col.pkl.gz')"
      ],
      "execution_count": 0,
      "outputs": []
    },
    {
      "cell_type": "code",
      "metadata": {
        "id": "OJ6xRuwVWkwi",
        "colab_type": "code",
        "colab": {}
      },
      "source": [
        ""
      ],
      "execution_count": 0,
      "outputs": []
    }
  ]
}