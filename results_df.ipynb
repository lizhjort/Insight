{
  "nbformat": 4,
  "nbformat_minor": 0,
  "metadata": {
    "colab": {
      "name": "results_df.ipynb",
      "version": "0.3.2",
      "provenance": [],
      "collapsed_sections": [],
      "include_colab_link": true
    },
    "kernelspec": {
      "name": "python3",
      "display_name": "Python 3"
    }
  },
  "cells": [
    {
      "cell_type": "markdown",
      "metadata": {
        "id": "view-in-github",
        "colab_type": "text"
      },
      "source": [
        "<a href=\"https://colab.research.google.com/github/lizhjort/Insight/blob/master/results_df.ipynb\" target=\"_parent\"><img src=\"https://colab.research.google.com/assets/colab-badge.svg\" alt=\"Open In Colab\"/></a>"
      ]
    },
    {
      "cell_type": "code",
      "metadata": {
        "id": "qWao6TOMEt3N",
        "colab_type": "code",
        "colab": {
          "base_uri": "https://localhost:8080/",
          "height": 34
        },
        "outputId": "b2b50d36-85fa-4c80-c360-c5adab31391f"
      },
      "source": [
        "from google.colab import drive\n",
        "drive.mount('/content/gdrive')"
      ],
      "execution_count": 1,
      "outputs": [
        {
          "output_type": "stream",
          "text": [
            "Drive already mounted at /content/gdrive; to attempt to forcibly remount, call drive.mount(\"/content/gdrive\", force_remount=True).\n"
          ],
          "name": "stdout"
        }
      ]
    },
    {
      "cell_type": "code",
      "metadata": {
        "id": "ikIQbyQfEwET",
        "colab_type": "code",
        "colab": {}
      },
      "source": [
        "import pandas as pd\n",
        "import numpy as np\n",
        "from sklearn.preprocessing import StandardScaler\n",
        "from sklearn.model_selection import KFold\n",
        "from sklearn.metrics import mean_absolute_error\n",
        "import lightgbm as lgb\n",
        "import matplotlib.pyplot as plt"
      ],
      "execution_count": 0,
      "outputs": []
    },
    {
      "cell_type": "code",
      "metadata": {
        "id": "XofbVvglEyaL",
        "colab_type": "code",
        "colab": {}
      },
      "source": [
        "data = pd.read_pickle('/content/gdrive/My Drive/insight_data/data_12_col.pkl.gz')"
      ],
      "execution_count": 0,
      "outputs": []
    },
    {
      "cell_type": "code",
      "metadata": {
        "id": "JQwjTUUKE00m",
        "colab_type": "code",
        "colab": {}
      },
      "source": [
        "y_pred = pd.read_pickle('/content/gdrive/My Drive/insight_data/y_predictions3.pkl.gz')"
      ],
      "execution_count": 0,
      "outputs": []
    },
    {
      "cell_type": "code",
      "metadata": {
        "id": "YluHo4JAIN6Q",
        "colab_type": "code",
        "colab": {}
      },
      "source": [
        "y_pred.reset_index(inplace=True)"
      ],
      "execution_count": 0,
      "outputs": []
    },
    {
      "cell_type": "code",
      "metadata": {
        "id": "Vl_-vhLgFAWr",
        "colab_type": "code",
        "colab": {}
      },
      "source": [
        "data[['ratings_count', 'reviews_count', 'text_reviews_count', 'average_rating']] = data[['ratings_count', 'reviews_count', 'text_reviews_count', 'average_rating']].fillna(value=0) "
      ],
      "execution_count": 0,
      "outputs": []
    },
    {
      "cell_type": "code",
      "metadata": {
        "id": "xyQYtn2gFEak",
        "colab_type": "code",
        "colab": {}
      },
      "source": [
        "X_test = data.loc[data['CheckoutDate'] >= '2019-05-05']\n",
        "data = data.loc[data['CheckoutDate'] < '2019-05-05']\n",
        "y_test = X_test['CheckoutCountNextWeek']"
      ],
      "execution_count": 0,
      "outputs": []
    },
    {
      "cell_type": "code",
      "metadata": {
        "id": "y2jscURoFJW8",
        "colab_type": "code",
        "colab": {}
      },
      "source": [
        "X_test.drop(['CheckoutCount', 'CheckoutCount1WeekPrev', 'CheckoutCount2WeekPrev', 'Genre', 'isbn', 'PublicationYear', 'ratings_count', 'reviews_count', 'text_reviews_count', 'average_rating', 'weeks_on_list', 'EverOnBestsellers', 'isbn13'], axis=1, inplace=True)"
      ],
      "execution_count": 0,
      "outputs": []
    },
    {
      "cell_type": "code",
      "metadata": {
        "id": "phqM3GK9FMow",
        "colab_type": "code",
        "colab": {}
      },
      "source": [
        "X_test.reset_index(inplace=True)"
      ],
      "execution_count": 0,
      "outputs": []
    },
    {
      "cell_type": "code",
      "metadata": {
        "id": "8T6wHPTLGBbP",
        "colab_type": "code",
        "colab": {}
      },
      "source": [
        "results_df = pd.merge(X_test, y_pred, left_index=True, right_index=True)"
      ],
      "execution_count": 0,
      "outputs": []
    },
    {
      "cell_type": "code",
      "metadata": {
        "id": "xRLXT5boieiN",
        "colab_type": "code",
        "colab": {}
      },
      "source": [
        "results_df = results_df.rename(index=str, columns={0: \"Predictions\"})"
      ],
      "execution_count": 0,
      "outputs": []
    },
    {
      "cell_type": "code",
      "metadata": {
        "id": "8enL1r8TrgQu",
        "colab_type": "code",
        "colab": {
          "base_uri": "https://localhost:8080/",
          "height": 204
        },
        "outputId": "30718816-4fb5-46a5-8953-8d849255406a"
      },
      "source": [
        "results_df.head()"
      ],
      "execution_count": 12,
      "outputs": [
        {
          "output_type": "execute_result",
          "data": {
            "text/html": [
              "<div>\n",
              "<style scoped>\n",
              "    .dataframe tbody tr th:only-of-type {\n",
              "        vertical-align: middle;\n",
              "    }\n",
              "\n",
              "    .dataframe tbody tr th {\n",
              "        vertical-align: top;\n",
              "    }\n",
              "\n",
              "    .dataframe thead th {\n",
              "        text-align: right;\n",
              "    }\n",
              "</style>\n",
              "<table border=\"1\" class=\"dataframe\">\n",
              "  <thead>\n",
              "    <tr style=\"text-align: right;\">\n",
              "      <th></th>\n",
              "      <th>index_x</th>\n",
              "      <th>BibNumber</th>\n",
              "      <th>CheckoutDate</th>\n",
              "      <th>CheckoutCountNextWeek</th>\n",
              "      <th>Title</th>\n",
              "      <th>ISBN</th>\n",
              "      <th>index_y</th>\n",
              "      <th>Predictions</th>\n",
              "    </tr>\n",
              "  </thead>\n",
              "  <tbody>\n",
              "    <tr>\n",
              "      <th>0</th>\n",
              "      <td>87</td>\n",
              "      <td>10143</td>\n",
              "      <td>2019-05-05</td>\n",
              "      <td>0.0</td>\n",
              "      <td>The price / by Arthur Miller..</td>\n",
              "      <td>082220911X, 9780822209119</td>\n",
              "      <td>0</td>\n",
              "      <td>0.0</td>\n",
              "    </tr>\n",
              "    <tr>\n",
              "      <th>1</th>\n",
              "      <td>88</td>\n",
              "      <td>10143</td>\n",
              "      <td>2019-05-12</td>\n",
              "      <td>0.0</td>\n",
              "      <td>The price / by Arthur Miller..</td>\n",
              "      <td>082220911X, 9780822209119</td>\n",
              "      <td>1</td>\n",
              "      <td>0.0</td>\n",
              "    </tr>\n",
              "    <tr>\n",
              "      <th>2</th>\n",
              "      <td>89</td>\n",
              "      <td>10143</td>\n",
              "      <td>2019-05-19</td>\n",
              "      <td>0.0</td>\n",
              "      <td>The price / by Arthur Miller..</td>\n",
              "      <td>082220911X, 9780822209119</td>\n",
              "      <td>2</td>\n",
              "      <td>0.0</td>\n",
              "    </tr>\n",
              "    <tr>\n",
              "      <th>3</th>\n",
              "      <td>90</td>\n",
              "      <td>10143</td>\n",
              "      <td>2019-05-26</td>\n",
              "      <td>0.0</td>\n",
              "      <td>The price / by Arthur Miller..</td>\n",
              "      <td>082220911X, 9780822209119</td>\n",
              "      <td>3</td>\n",
              "      <td>0.0</td>\n",
              "    </tr>\n",
              "    <tr>\n",
              "      <th>4</th>\n",
              "      <td>91</td>\n",
              "      <td>10143</td>\n",
              "      <td>2019-06-02</td>\n",
              "      <td>0.0</td>\n",
              "      <td>The price / by Arthur Miller..</td>\n",
              "      <td>082220911X, 9780822209119</td>\n",
              "      <td>4</td>\n",
              "      <td>0.0</td>\n",
              "    </tr>\n",
              "  </tbody>\n",
              "</table>\n",
              "</div>"
            ],
            "text/plain": [
              "   index_x  BibNumber  ... index_y  Predictions\n",
              "0       87      10143  ...       0          0.0\n",
              "1       88      10143  ...       1          0.0\n",
              "2       89      10143  ...       2          0.0\n",
              "3       90      10143  ...       3          0.0\n",
              "4       91      10143  ...       4          0.0\n",
              "\n",
              "[5 rows x 8 columns]"
            ]
          },
          "metadata": {
            "tags": []
          },
          "execution_count": 12
        }
      ]
    },
    {
      "cell_type": "code",
      "metadata": {
        "id": "mXI3i8hxHwrg",
        "colab_type": "code",
        "colab": {}
      },
      "source": [
        "sample = results_df.sample(25)"
      ],
      "execution_count": 0,
      "outputs": []
    },
    {
      "cell_type": "code",
      "metadata": {
        "id": "HcjqMFrjHyOP",
        "colab_type": "code",
        "colab": {}
      },
      "source": [
        "results_df.drop(['index_x', 'index_y'], axis=1, inplace=True)"
      ],
      "execution_count": 0,
      "outputs": []
    },
    {
      "cell_type": "code",
      "metadata": {
        "id": "R7DU0pNvLZHy",
        "colab_type": "code",
        "colab": {}
      },
      "source": [
        "sample = sample.rename(index=str, columns={0: \"Predictions\"})"
      ],
      "execution_count": 0,
      "outputs": []
    },
    {
      "cell_type": "code",
      "metadata": {
        "id": "pEa2ByTOMEhI",
        "colab_type": "code",
        "colab": {
          "base_uri": "https://localhost:8080/",
          "height": 1147
        },
        "outputId": "bebc7da5-acb3-4343-e17d-eb7e6dd9a99f"
      },
      "source": [
        "sample"
      ],
      "execution_count": 16,
      "outputs": [
        {
          "output_type": "execute_result",
          "data": {
            "text/html": [
              "<div>\n",
              "<style scoped>\n",
              "    .dataframe tbody tr th:only-of-type {\n",
              "        vertical-align: middle;\n",
              "    }\n",
              "\n",
              "    .dataframe tbody tr th {\n",
              "        vertical-align: top;\n",
              "    }\n",
              "\n",
              "    .dataframe thead th {\n",
              "        text-align: right;\n",
              "    }\n",
              "</style>\n",
              "<table border=\"1\" class=\"dataframe\">\n",
              "  <thead>\n",
              "    <tr style=\"text-align: right;\">\n",
              "      <th></th>\n",
              "      <th>index_x</th>\n",
              "      <th>BibNumber</th>\n",
              "      <th>CheckoutDate</th>\n",
              "      <th>CheckoutCountNextWeek</th>\n",
              "      <th>Title</th>\n",
              "      <th>ISBN</th>\n",
              "      <th>index_y</th>\n",
              "      <th>Predictions</th>\n",
              "    </tr>\n",
              "  </thead>\n",
              "  <tbody>\n",
              "    <tr>\n",
              "      <th>484639</th>\n",
              "      <td>9109626</td>\n",
              "      <td>3389413</td>\n",
              "      <td>2019-05-26</td>\n",
              "      <td>6.0</td>\n",
              "      <td>The book of Greek &amp; Roman folktales, legends, ...</td>\n",
              "      <td>0691170150, 9780691170152</td>\n",
              "      <td>484639</td>\n",
              "      <td>3.385805e-01</td>\n",
              "    </tr>\n",
              "    <tr>\n",
              "      <th>51607</th>\n",
              "      <td>962266</td>\n",
              "      <td>2364939</td>\n",
              "      <td>2019-05-12</td>\n",
              "      <td>0.0</td>\n",
              "      <td>Voices / Ursula K. Le Guin.</td>\n",
              "      <td>0152062424, 9780152062422</td>\n",
              "      <td>51607</td>\n",
              "      <td>0.000000e+00</td>\n",
              "    </tr>\n",
              "    <tr>\n",
              "      <th>228682</th>\n",
              "      <td>4263487</td>\n",
              "      <td>3009287</td>\n",
              "      <td>2019-05-12</td>\n",
              "      <td>0.0</td>\n",
              "      <td>The new charcuterie cookbook : exceptional cur...</td>\n",
              "      <td>1624140467, 9781624140464</td>\n",
              "      <td>228682</td>\n",
              "      <td>0.000000e+00</td>\n",
              "    </tr>\n",
              "    <tr>\n",
              "      <th>496072</th>\n",
              "      <td>9330220</td>\n",
              "      <td>3407006</td>\n",
              "      <td>2019-05-12</td>\n",
              "      <td>0.0</td>\n",
              "      <td>The last giant of Beringia : the mystery of th...</td>\n",
              "      <td>046505157X, 9780465051571</td>\n",
              "      <td>496072</td>\n",
              "      <td>1.075335e-02</td>\n",
              "    </tr>\n",
              "    <tr>\n",
              "      <th>44383</th>\n",
              "      <td>828564</td>\n",
              "      <td>2281617</td>\n",
              "      <td>2019-05-19</td>\n",
              "      <td>0.0</td>\n",
              "      <td>Assessment of grassland ecosystem conditions i...</td>\n",
              "      <td>NaN</td>\n",
              "      <td>44383</td>\n",
              "      <td>0.000000e+00</td>\n",
              "    </tr>\n",
              "    <tr>\n",
              "      <th>195163</th>\n",
              "      <td>3634620</td>\n",
              "      <td>2942444</td>\n",
              "      <td>2019-05-05</td>\n",
              "      <td>0.0</td>\n",
              "      <td>DEC is dead, long live DEC : the lasting legac...</td>\n",
              "      <td>1576753050, 9781576753057</td>\n",
              "      <td>195163</td>\n",
              "      <td>0.000000e+00</td>\n",
              "    </tr>\n",
              "    <tr>\n",
              "      <th>494718</th>\n",
              "      <td>9302694</td>\n",
              "      <td>3405009</td>\n",
              "      <td>2019-06-02</td>\n",
              "      <td>0.0</td>\n",
              "      <td>Rick Steves Barcelona / Rick Steves.</td>\n",
              "      <td>1631218271, 9781631218279</td>\n",
              "      <td>494718</td>\n",
              "      <td>7.220375e-01</td>\n",
              "    </tr>\n",
              "    <tr>\n",
              "      <th>185427</th>\n",
              "      <td>3453460</td>\n",
              "      <td>2927705</td>\n",
              "      <td>2019-06-02</td>\n",
              "      <td>0.0</td>\n",
              "      <td>Who's sorry now? : a novel / Howard Jacobson.</td>\n",
              "      <td>1608196860, 9781608196869</td>\n",
              "      <td>185427</td>\n",
              "      <td>0.000000e+00</td>\n",
              "    </tr>\n",
              "    <tr>\n",
              "      <th>141918</th>\n",
              "      <td>2643615</td>\n",
              "      <td>2838473</td>\n",
              "      <td>2019-05-26</td>\n",
              "      <td>0.0</td>\n",
              "      <td>Indipendensu dei = Independence day / Harada M...</td>\n",
              "      <td>4569775756, 9784569775753</td>\n",
              "      <td>141918</td>\n",
              "      <td>0.000000e+00</td>\n",
              "    </tr>\n",
              "    <tr>\n",
              "      <th>158930</th>\n",
              "      <td>2960973</td>\n",
              "      <td>2875870</td>\n",
              "      <td>2019-05-26</td>\n",
              "      <td>0.0</td>\n",
              "      <td>Trách em thật quá xinh / Vị Tái ; người dịch, ...</td>\n",
              "      <td>NaN</td>\n",
              "      <td>158930</td>\n",
              "      <td>0.000000e+00</td>\n",
              "    </tr>\n",
              "    <tr>\n",
              "      <th>126657</th>\n",
              "      <td>2359776</td>\n",
              "      <td>2751843</td>\n",
              "      <td>2019-05-05</td>\n",
              "      <td>0.0</td>\n",
              "      <td>The Black Hills / Rod Thompson.</td>\n",
              "      <td>0425243109, 9780425243107</td>\n",
              "      <td>126657</td>\n",
              "      <td>0.000000e+00</td>\n",
              "    </tr>\n",
              "    <tr>\n",
              "      <th>221446</th>\n",
              "      <td>4128733</td>\n",
              "      <td>2991265</td>\n",
              "      <td>2019-06-02</td>\n",
              "      <td>0.0</td>\n",
              "      <td>Girls from da hood 5 / Keisha Ervin, Brenda Ha...</td>\n",
              "      <td>1601625146, 9781601625144</td>\n",
              "      <td>221446</td>\n",
              "      <td>0.000000e+00</td>\n",
              "    </tr>\n",
              "    <tr>\n",
              "      <th>178375</th>\n",
              "      <td>3322237</td>\n",
              "      <td>2916509</td>\n",
              "      <td>2019-06-02</td>\n",
              "      <td>0.0</td>\n",
              "      <td>The Ravagers. Volume 1, The kids from N.O.W.H....</td>\n",
              "      <td>1401240917, 9781401240912</td>\n",
              "      <td>178375</td>\n",
              "      <td>-1.584196e-02</td>\n",
              "    </tr>\n",
              "    <tr>\n",
              "      <th>114855</th>\n",
              "      <td>2138905</td>\n",
              "      <td>2731693</td>\n",
              "      <td>2019-06-02</td>\n",
              "      <td>0.0</td>\n",
              "      <td>What nurses know-- chronic fatigue syndrome / ...</td>\n",
              "      <td>1932603875, 9781932603873</td>\n",
              "      <td>114855</td>\n",
              "      <td>0.000000e+00</td>\n",
              "    </tr>\n",
              "    <tr>\n",
              "      <th>408427</th>\n",
              "      <td>7624878</td>\n",
              "      <td>3278941</td>\n",
              "      <td>2019-05-26</td>\n",
              "      <td>0.0</td>\n",
              "      <td>Shame nation : the global epidemic of online h...</td>\n",
              "      <td>149264899X, 9781492648994</td>\n",
              "      <td>408427</td>\n",
              "      <td>0.000000e+00</td>\n",
              "    </tr>\n",
              "    <tr>\n",
              "      <th>23726</th>\n",
              "      <td>444175</td>\n",
              "      <td>2029763</td>\n",
              "      <td>2019-05-12</td>\n",
              "      <td>0.0</td>\n",
              "      <td>America's children : key national indicators o...</td>\n",
              "      <td>NaN</td>\n",
              "      <td>23726</td>\n",
              "      <td>0.000000e+00</td>\n",
              "    </tr>\n",
              "    <tr>\n",
              "      <th>320817</th>\n",
              "      <td>5981756</td>\n",
              "      <td>3162285</td>\n",
              "      <td>2019-05-19</td>\n",
              "      <td>21.0</td>\n",
              "      <td>50 hikes in Alaska's Kenai Peninsula / Taz Tally.</td>\n",
              "      <td>1581573782, 9781581573787</td>\n",
              "      <td>320817</td>\n",
              "      <td>0.000000e+00</td>\n",
              "    </tr>\n",
              "    <tr>\n",
              "      <th>321762</th>\n",
              "      <td>5999333</td>\n",
              "      <td>3163515</td>\n",
              "      <td>2019-05-19</td>\n",
              "      <td>0.0</td>\n",
              "      <td>The path : what Chinese philosophers can teach...</td>\n",
              "      <td>1476777837, 1476777845, 9781476777832, 9781476...</td>\n",
              "      <td>321762</td>\n",
              "      <td>7.543799e-03</td>\n",
              "    </tr>\n",
              "    <tr>\n",
              "      <th>3382</th>\n",
              "      <td>63468</td>\n",
              "      <td>1639316</td>\n",
              "      <td>2019-05-26</td>\n",
              "      <td>0.0</td>\n",
              "      <td>Effectivenss and costs of osteoporosis screeni...</td>\n",
              "      <td>NaN</td>\n",
              "      <td>3382</td>\n",
              "      <td>0.000000e+00</td>\n",
              "    </tr>\n",
              "    <tr>\n",
              "      <th>495266</th>\n",
              "      <td>9312923</td>\n",
              "      <td>3405739</td>\n",
              "      <td>2019-05-19</td>\n",
              "      <td>0.0</td>\n",
              "      <td>The sorrows of love / The School of Life.</td>\n",
              "      <td>0995753520, 9780995753525</td>\n",
              "      <td>495266</td>\n",
              "      <td>0.000000e+00</td>\n",
              "    </tr>\n",
              "    <tr>\n",
              "      <th>118768</th>\n",
              "      <td>2212002</td>\n",
              "      <td>2739031</td>\n",
              "      <td>2019-05-26</td>\n",
              "      <td>0.0</td>\n",
              "      <td>Yawaraka na retasu / Ekuni Kaori.</td>\n",
              "      <td>4163736808, 9784163736808</td>\n",
              "      <td>118768</td>\n",
              "      <td>0.000000e+00</td>\n",
              "    </tr>\n",
              "    <tr>\n",
              "      <th>143306</th>\n",
              "      <td>2669467</td>\n",
              "      <td>2844607</td>\n",
              "      <td>2019-05-12</td>\n",
              "      <td>0.0</td>\n",
              "      <td>Touring hot springs. California and Nevada / M...</td>\n",
              "      <td>076278069X, 9780762780693</td>\n",
              "      <td>143306</td>\n",
              "      <td>0.000000e+00</td>\n",
              "    </tr>\n",
              "    <tr>\n",
              "      <th>27277</th>\n",
              "      <td>509776</td>\n",
              "      <td>2078062</td>\n",
              "      <td>2019-05-26</td>\n",
              "      <td>0.0</td>\n",
              "      <td>Best new American voices.</td>\n",
              "      <td>NaN</td>\n",
              "      <td>27277</td>\n",
              "      <td>0.000000e+00</td>\n",
              "    </tr>\n",
              "    <tr>\n",
              "      <th>395386</th>\n",
              "      <td>7376470</td>\n",
              "      <td>3266017</td>\n",
              "      <td>2019-05-05</td>\n",
              "      <td>0.0</td>\n",
              "      <td>Hemingway didn't say that : the truth behind f...</td>\n",
              "      <td>1503933415, 9781503933415</td>\n",
              "      <td>395386</td>\n",
              "      <td>0.000000e+00</td>\n",
              "    </tr>\n",
              "    <tr>\n",
              "      <th>241629</th>\n",
              "      <td>4504266</td>\n",
              "      <td>3029321</td>\n",
              "      <td>2019-05-26</td>\n",
              "      <td>0.0</td>\n",
              "      <td>Bowie : the biography / Wendy Leigh.</td>\n",
              "      <td>1476767076, 1476767092, 9781476767079, 9781476...</td>\n",
              "      <td>241629</td>\n",
              "      <td>-5.636669e-09</td>\n",
              "    </tr>\n",
              "  </tbody>\n",
              "</table>\n",
              "</div>"
            ],
            "text/plain": [
              "        index_x  BibNumber  ... index_y   Predictions\n",
              "484639  9109626    3389413  ...  484639  3.385805e-01\n",
              "51607    962266    2364939  ...   51607  0.000000e+00\n",
              "228682  4263487    3009287  ...  228682  0.000000e+00\n",
              "496072  9330220    3407006  ...  496072  1.075335e-02\n",
              "44383    828564    2281617  ...   44383  0.000000e+00\n",
              "195163  3634620    2942444  ...  195163  0.000000e+00\n",
              "494718  9302694    3405009  ...  494718  7.220375e-01\n",
              "185427  3453460    2927705  ...  185427  0.000000e+00\n",
              "141918  2643615    2838473  ...  141918  0.000000e+00\n",
              "158930  2960973    2875870  ...  158930  0.000000e+00\n",
              "126657  2359776    2751843  ...  126657  0.000000e+00\n",
              "221446  4128733    2991265  ...  221446  0.000000e+00\n",
              "178375  3322237    2916509  ...  178375 -1.584196e-02\n",
              "114855  2138905    2731693  ...  114855  0.000000e+00\n",
              "408427  7624878    3278941  ...  408427  0.000000e+00\n",
              "23726    444175    2029763  ...   23726  0.000000e+00\n",
              "320817  5981756    3162285  ...  320817  0.000000e+00\n",
              "321762  5999333    3163515  ...  321762  7.543799e-03\n",
              "3382      63468    1639316  ...    3382  0.000000e+00\n",
              "495266  9312923    3405739  ...  495266  0.000000e+00\n",
              "118768  2212002    2739031  ...  118768  0.000000e+00\n",
              "143306  2669467    2844607  ...  143306  0.000000e+00\n",
              "27277    509776    2078062  ...   27277  0.000000e+00\n",
              "395386  7376470    3266017  ...  395386  0.000000e+00\n",
              "241629  4504266    3029321  ...  241629 -5.636669e-09\n",
              "\n",
              "[25 rows x 8 columns]"
            ]
          },
          "metadata": {
            "tags": []
          },
          "execution_count": 16
        }
      ]
    },
    {
      "cell_type": "code",
      "metadata": {
        "id": "7P4x0OETNI4i",
        "colab_type": "code",
        "colab": {
          "base_uri": "https://localhost:8080/",
          "height": 34
        },
        "outputId": "4935a8e3-b07c-4d57-8b49-3a9285a355ac"
      },
      "source": [
        "y_true = results_df['CheckoutCountNextWeek']\n",
        "y_pred = results_df['Predictions']\n",
        "\n",
        "from sklearn.metrics import mean_squared_error\n",
        "from math import sqrt\n",
        "\n",
        "test_error = mean_absolute_error(y_true, y_pred)\n",
        "print(test_error)"
      ],
      "execution_count": 17,
      "outputs": [
        {
          "output_type": "stream",
          "text": [
            "4.4261317332197025\n"
          ],
          "name": "stdout"
        }
      ]
    },
    {
      "cell_type": "code",
      "metadata": {
        "id": "6JCPLT_QiY4N",
        "colab_type": "code",
        "colab": {}
      },
      "source": [
        "results_df['MonthYear'] = results_df['CheckoutDate'].apply(lambda x: x.strftime('%Y-%m'))\n"
      ],
      "execution_count": 0,
      "outputs": []
    },
    {
      "cell_type": "code",
      "metadata": {
        "id": "mGqzcbvfeCCP",
        "colab_type": "code",
        "colab": {}
      },
      "source": [
        "results_df.to_pickle('/content/gdrive/My Drive/insight_data/results_new.pkl.gz')"
      ],
      "execution_count": 0,
      "outputs": []
    },
    {
      "cell_type": "code",
      "metadata": {
        "id": "ix16QniReMp-",
        "colab_type": "code",
        "colab": {}
      },
      "source": [
        "inventory = pd.read_pickle('/content/gdrive/My Drive/insight_data/min_inventory.pkl.gz')"
      ],
      "execution_count": 0,
      "outputs": []
    },
    {
      "cell_type": "code",
      "metadata": {
        "id": "IcV7naoegJ7Y",
        "colab_type": "code",
        "colab": {
          "base_uri": "https://localhost:8080/",
          "height": 289
        },
        "outputId": "6252f94f-bf11-46c5-cc06-a0764d45335a"
      },
      "source": [
        "inventory.head()"
      ],
      "execution_count": 21,
      "outputs": [
        {
          "output_type": "execute_result",
          "data": {
            "text/html": [
              "<div>\n",
              "<style scoped>\n",
              "    .dataframe tbody tr th:only-of-type {\n",
              "        vertical-align: middle;\n",
              "    }\n",
              "\n",
              "    .dataframe tbody tr th {\n",
              "        vertical-align: top;\n",
              "    }\n",
              "\n",
              "    .dataframe thead th {\n",
              "        text-align: right;\n",
              "    }\n",
              "</style>\n",
              "<table border=\"1\" class=\"dataframe\">\n",
              "  <thead>\n",
              "    <tr style=\"text-align: right;\">\n",
              "      <th></th>\n",
              "      <th>BibNumber</th>\n",
              "      <th>Title</th>\n",
              "      <th>Author</th>\n",
              "      <th>ISBN</th>\n",
              "      <th>PublicationYear</th>\n",
              "      <th>Publisher</th>\n",
              "      <th>ReportDate</th>\n",
              "      <th>ItemCount</th>\n",
              "      <th>MonthYear</th>\n",
              "    </tr>\n",
              "  </thead>\n",
              "  <tbody>\n",
              "    <tr>\n",
              "      <th>44</th>\n",
              "      <td>3259688</td>\n",
              "      <td>The English daughter / Maggie Wadey.</td>\n",
              "      <td>Wadey, Maggie</td>\n",
              "      <td>1910985139, 9781910985137</td>\n",
              "      <td>2016.</td>\n",
              "      <td>Sandstone Press Ltd,</td>\n",
              "      <td>2017-09-01</td>\n",
              "      <td>2</td>\n",
              "      <td>2017-09</td>\n",
              "    </tr>\n",
              "    <tr>\n",
              "      <th>58</th>\n",
              "      <td>2130621</td>\n",
              "      <td>Fire fighters : stories of survival from the f...</td>\n",
              "      <td>NaN</td>\n",
              "      <td>1560254025</td>\n",
              "      <td>c2002.</td>\n",
              "      <td>Thunder's Mouth Press : Distributed by Publish...</td>\n",
              "      <td>2017-09-01</td>\n",
              "      <td>2</td>\n",
              "      <td>2017-09</td>\n",
              "    </tr>\n",
              "    <tr>\n",
              "      <th>62</th>\n",
              "      <td>3068849</td>\n",
              "      <td>The autumn republic / Brian McClellan.</td>\n",
              "      <td>McClellan, Brian, 1986-</td>\n",
              "      <td>0316219118, 0316219126, 9780316219112, 9780316...</td>\n",
              "      <td>2015.</td>\n",
              "      <td>Orbit,</td>\n",
              "      <td>2017-09-01</td>\n",
              "      <td>2</td>\n",
              "      <td>2017-09</td>\n",
              "    </tr>\n",
              "    <tr>\n",
              "      <th>63</th>\n",
              "      <td>2044450</td>\n",
              "      <td>American furniture : tables, chairs, sofas &amp; b...</td>\n",
              "      <td>Schwartz, Marvin D.</td>\n",
              "      <td>157912108X</td>\n",
              "      <td>c2000.</td>\n",
              "      <td>Black Dog &amp; Leventhal : Distributed by Workman...</td>\n",
              "      <td>2017-09-01</td>\n",
              "      <td>2</td>\n",
              "      <td>2017-09</td>\n",
              "    </tr>\n",
              "    <tr>\n",
              "      <th>75</th>\n",
              "      <td>3165152</td>\n",
              "      <td>No shred of evidence / Charles Todd.</td>\n",
              "      <td>Todd, Charles</td>\n",
              "      <td>0062386182, 9780062386182</td>\n",
              "      <td>[2016]</td>\n",
              "      <td>William Morrow, an imprint of HarperCollinsPub...</td>\n",
              "      <td>2017-09-01</td>\n",
              "      <td>4</td>\n",
              "      <td>2017-09</td>\n",
              "    </tr>\n",
              "  </tbody>\n",
              "</table>\n",
              "</div>"
            ],
            "text/plain": [
              "    BibNumber  ... MonthYear\n",
              "44    3259688  ...   2017-09\n",
              "58    2130621  ...   2017-09\n",
              "62    3068849  ...   2017-09\n",
              "63    2044450  ...   2017-09\n",
              "75    3165152  ...   2017-09\n",
              "\n",
              "[5 rows x 9 columns]"
            ]
          },
          "metadata": {
            "tags": []
          },
          "execution_count": 21
        }
      ]
    },
    {
      "cell_type": "code",
      "metadata": {
        "id": "kjOWprZSgDiy",
        "colab_type": "code",
        "colab": {}
      },
      "source": [
        "inventory['MonthYear'] = inventory['ReportDate'].apply(lambda x: x.strftime('%Y-%m'))\n"
      ],
      "execution_count": 0,
      "outputs": []
    },
    {
      "cell_type": "code",
      "metadata": {
        "id": "QVaAhafigOGQ",
        "colab_type": "code",
        "colab": {}
      },
      "source": [
        "inventory.to_pickle('/content/gdrive/My Drive/insight_data/min_inventory.pkl.gz')"
      ],
      "execution_count": 0,
      "outputs": []
    },
    {
      "cell_type": "code",
      "metadata": {
        "id": "qeUPgGe_gYea",
        "colab_type": "code",
        "colab": {}
      },
      "source": [
        "results_df.to_csv('/content/gdrive/My Drive/insight_data/results_new.csv')"
      ],
      "execution_count": 0,
      "outputs": []
    },
    {
      "cell_type": "code",
      "metadata": {
        "id": "JEgeEn1xhJo6",
        "colab_type": "code",
        "colab": {}
      },
      "source": [
        "inventory.to_csv('/content/gdrive/My Drive/insight_data/min_inventory.csv')"
      ],
      "execution_count": 0,
      "outputs": []
    },
    {
      "cell_type": "code",
      "metadata": {
        "id": "KvJjEapxhOTt",
        "colab_type": "code",
        "colab": {}
      },
      "source": [
        ""
      ],
      "execution_count": 0,
      "outputs": []
    }
  ]
}